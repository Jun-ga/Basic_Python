{
  "nbformat": 4,
  "nbformat_minor": 0,
  "metadata": {
    "colab": {
      "name": "Untitled0.py",
      "provenance": [],
      "collapsed_sections": [],
      "authorship_tag": "ABX9TyOVdNmENtK8dovjgvf5GYIQ",
      "include_colab_link": true
    },
    "kernelspec": {
      "name": "python3",
      "display_name": "Python 3"
    },
    "accelerator": "GPU"
  },
  "cells": [
    {
      "cell_type": "markdown",
      "metadata": {
        "id": "view-in-github",
        "colab_type": "text"
      },
      "source": [
        "<a href=\"https://colab.research.google.com/github/gek7537/Basic_Python/blob/master/%5B%EC%8B%A4%EC%8A%B5_2%5D%20Brain_classification/Brain_classification_CJA.ipynb\" target=\"_parent\"><img src=\"https://colab.research.google.com/assets/colab-badge.svg\" alt=\"Open In Colab\"/></a>"
      ]
    },
    {
      "cell_type": "code",
      "metadata": {
        "id": "mlYi3rfQLIAs",
        "colab_type": "code",
        "outputId": "6811fafc-2d92-4aeb-8fa2-261d4177678d",
        "colab": {
          "base_uri": "https://localhost:8080/",
          "height": 126
        }
      },
      "source": [
        "from google.colab import drive\n",
        "drive.mount('/content/drive')"
      ],
      "execution_count": 0,
      "outputs": [
        {
          "output_type": "stream",
          "text": [
            "Go to this URL in a browser: https://accounts.google.com/o/oauth2/auth?client_id=947318989803-6bn6qk8qdgf4n4g3pfee6491hc0brc4i.apps.googleusercontent.com&redirect_uri=urn%3aietf%3awg%3aoauth%3a2.0%3aoob&response_type=code&scope=email%20https%3a%2f%2fwww.googleapis.com%2fauth%2fdocs.test%20https%3a%2f%2fwww.googleapis.com%2fauth%2fdrive%20https%3a%2f%2fwww.googleapis.com%2fauth%2fdrive.photos.readonly%20https%3a%2f%2fwww.googleapis.com%2fauth%2fpeopleapi.readonly\n",
            "\n",
            "Enter your authorization code:\n",
            "··········\n",
            "Mounted at /content/drive\n"
          ],
          "name": "stdout"
        }
      ]
    },
    {
      "cell_type": "code",
      "metadata": {
        "id": "hhB0oTBtHXex",
        "colab_type": "code",
        "outputId": "6eacafdd-fcb1-4d64-aa66-0a2a09a7a948",
        "colab": {
          "base_uri": "https://localhost:8080/",
          "height": 70
        }
      },
      "source": [
        "import pandas as pd\n",
        "import numpy as np\n",
        "import torch\n",
        "import torch.nn as nn\n",
        "import torch.nn.functional as F\n",
        "import torch.optim as optim\n",
        "\n",
        "#시드고정\n",
        "torch.manual_seed(1)\n",
        "np.random.seed(1)\n",
        "\n",
        "#파라미터\n",
        "learning_rate = 0.0001\n",
        "nb_epochs = 1000\n",
        "\n",
        "#데이터로드 및 셔플\n",
        "al_data = pd.read_excel('/content/drive/My Drive/인공지능 두뇌지수 데이터_1024.xlsx', usecols=['Scholarly Output','Most recent publication','Citations','Citations per Publication','Field-Weighted Citation Impact','h-index','Country Number','Scholarly Output100','Citations per Publication100','Field-Weighted Citation Impact100','Degree'])\n",
        "xy_data = al_data.values\n",
        "\n",
        "np.random.shuffle(xy_data)\n",
        "\n",
        "#print(al_data)\n",
        "#print(xy_data)\n",
        "\n",
        "#데이터 구분\n",
        "x_data = xy_data[:,0:-1]\n",
        "y_data = xy_data[:,[-1]]\n",
        "\n",
        "#데이터 텐서로 변환\n",
        "x_train = torch.FloatTensor(x_data)\n",
        "y_train = torch.FloatTensor(y_data)\n",
        "\n",
        "x_test = torch.FloatTensor(x_data)\n",
        "y_test = torch.FloatTensor(y_data)\n",
        "\n",
        "\n",
        "#x 데이터 값 정규화\n",
        "mu = x_train.mean(dim=0)\n",
        "sigma = x_train.std(dim=0)\n",
        "norm_x_train = (x_train - mu) / sigma\n",
        "\n",
        "#x 테스트 값 정규화\n",
        "mu = x_test.mean(dim=0)\n",
        "sigma = x_test.std(dim=0)\n",
        "norm_x_test = (x_train - mu) / sigma\n",
        "\n",
        "#print(norm_x_train)\n",
        "print(norm_x_train.shape)\n",
        "print(y_train.shape)\n",
        "\n",
        "#x_data.dtype\n",
        "y_data.dtype\n"
      ],
      "execution_count": 61,
      "outputs": [
        {
          "output_type": "stream",
          "text": [
            "torch.Size([12500, 10])\n",
            "torch.Size([12500, 1])\n"
          ],
          "name": "stdout"
        },
        {
          "output_type": "execute_result",
          "data": {
            "text/plain": [
              "dtype('float64')"
            ]
          },
          "metadata": {
            "tags": []
          },
          "execution_count": 61
        }
      ]
    },
    {
      "cell_type": "code",
      "metadata": {
        "id": "xQJhWvSKqzBL",
        "colab_type": "code",
        "outputId": "81c5d92a-1002-46d4-9282-f4e188501593",
        "colab": {
          "base_uri": "https://localhost:8080/",
          "height": 214
        }
      },
      "source": [
        "#검증데이터 테스트데이터 구분\n",
        "\n",
        "\n",
        "\n",
        "\n",
        "#모델생성\n",
        "\n",
        "linear1 = torch.nn.Linear(10, 256, bias=True)\n",
        "linear2 = torch.nn.Linear(256, 1, bias=True)\n",
        "relu = torch.nn.ReLU()\n",
        "\n",
        "model = torch.nn.Sequential(linear1, relu, linear2)\n",
        "#print(model)\n",
        "\n",
        "optimizer = torch.optim.Adam(model.parameters(), lr=learning_rate)\n",
        "\n",
        "for epoch in range(nb_epochs + 1):\n",
        "    hypothesis = model(x_train)\n",
        "\n",
        "\n",
        "    #cost = F.cross_entropy(hypothesis, y_train)\n",
        "    #cost = torch.nn.CrossEntropyLoss(hypothesis, y_train)\n",
        "    cost = F.mse_loss(hypothesis, y_train)\n",
        "\n",
        "\n",
        "    # cost로 H(x) 개선\n",
        "    optimizer.zero_grad()\n",
        "    cost.backward()\n",
        "    optimizer.step()\n",
        "\n",
        "    # 10번마다 로그 출력\n",
        "    if epoch % 100 == 0:\n",
        "        print('Epoch {:4d}/{} Cost: {:.6f}'.format(\n",
        "            epoch, nb_epochs, cost.item()\n",
        "        ))"
      ],
      "execution_count": 63,
      "outputs": [
        {
          "output_type": "stream",
          "text": [
            "Epoch    0/1000 Cost: 14190.850586\n",
            "Epoch  100/1000 Cost: 79.678886\n",
            "Epoch  200/1000 Cost: 41.509422\n",
            "Epoch  300/1000 Cost: 29.618868\n",
            "Epoch  400/1000 Cost: 22.692175\n",
            "Epoch  500/1000 Cost: 17.169975\n",
            "Epoch  600/1000 Cost: 12.759546\n",
            "Epoch  700/1000 Cost: 9.192520\n",
            "Epoch  800/1000 Cost: 6.385424\n",
            "Epoch  900/1000 Cost: 4.327537\n",
            "Epoch 1000/1000 Cost: 3.007025\n"
          ],
          "name": "stdout"
        }
      ]
    },
    {
      "cell_type": "code",
      "metadata": {
        "id": "lvl6QpRzREVD",
        "colab_type": "code",
        "colab": {
          "base_uri": "https://localhost:8080/",
          "height": 34
        },
        "outputId": "c9b616c7-e9d1-4837-f6e9-7fc07ffdb167"
      },
      "source": [
        "#모델 테스트\n",
        "\n",
        "with torch.no_grad():\n",
        "    prediction = model(x_test)\n",
        "    correct_prediction = torch.argmax(prediction, 1) == y_test\n",
        "    accuracy = correct_prediction.float().mean()\n",
        "    print('Accuracy:', accuracy.item())\n",
        "\n",
        "\n"
      ],
      "execution_count": 64,
      "outputs": [
        {
          "output_type": "stream",
          "text": [
            "Accuracy: 0.0\n"
          ],
          "name": "stdout"
        }
      ]
    }
  ]
}